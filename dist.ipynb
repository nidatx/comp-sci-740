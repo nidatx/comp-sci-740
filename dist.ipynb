{
 "cells": [
  {
   "cell_type": "code",
   "execution_count": 1,
   "id": "50fae52f-32d8-4e5a-85b5-12fb900c157a",
   "metadata": {},
   "outputs": [],
   "source": [
    "import numpy as np"
   ]
  },
  {
   "cell_type": "code",
   "execution_count": 4,
   "id": "07ee8235-a9dd-4bce-a991-403767dd13b8",
   "metadata": {},
   "outputs": [],
   "source": [
    "a = 1.46 # shape\n",
    "b = 0.382 ## scale parameter\n",
    "s = b*np.random.weibull(a, 1)"
   ]
  },
  {
   "cell_type": "code",
   "execution_count": 6,
   "id": "15ac8eab-f560-44e3-896c-f6907cc80500",
   "metadata": {},
   "outputs": [
    {
     "data": {
      "text/plain": [
       "np.float64(0.4737809392588982)"
      ]
     },
     "execution_count": 6,
     "metadata": {},
     "output_type": "execute_result"
    }
   ],
   "source": [
    "s[0]"
   ]
  },
  {
   "cell_type": "code",
   "execution_count": 27,
   "id": "9fc9a808-d56a-4881-a84a-99ef9595cbed",
   "metadata": {},
   "outputs": [
    {
     "data": {
      "text/plain": [
       "array([5.17957838, 5.34988967, 4.96894925, 4.86534876, 5.19170662,\n",
       "       4.24173554, 4.59582507, 4.37830835, 5.19633607, 4.93605117,\n",
       "       4.94401036, 4.93050371, 5.12667682, 4.49948676, 5.16439814])"
      ]
     },
     "execution_count": 27,
     "metadata": {},
     "output_type": "execute_result"
    }
   ],
   "source": [
    "s = b*np.random.weibull(a, 15)\n",
    "s"
   ]
  },
  {
   "cell_type": "code",
   "execution_count": null,
   "id": "e83ccada-48d6-4169-b891-cdbff3e173fc",
   "metadata": {},
   "outputs": [],
   "source": []
  }
 ],
 "metadata": {
  "kernelspec": {
   "display_name": "cs740env",
   "language": "python",
   "name": "python3"
  },
  "language_info": {
   "codemirror_mode": {
    "name": "ipython",
    "version": 3
   },
   "file_extension": ".py",
   "mimetype": "text/x-python",
   "name": "python",
   "nbconvert_exporter": "python",
   "pygments_lexer": "ipython3",
   "version": "3.11.9"
  }
 },
 "nbformat": 4,
 "nbformat_minor": 5
}
